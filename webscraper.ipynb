{
 "cells": [
  {
   "cell_type": "code",
   "execution_count": 6,
   "id": "dce37d78",
   "metadata": {},
   "outputs": [],
   "source": [
    "from seleniumwire import webdriver\n",
    "import time\n",
    "import pathlib\n",
    "import os\n",
    "import requests\n",
    "from urllib.parse import urlparse, parse_qs\n",
    "\n",
    "# get driver path\n",
    "current_path = pathlib.Path().resolve()\n",
    "driver_path = os.path.join(current_path, \"chromedriver\")\n",
    "\n",
    "driver = webdriver.Chrome(driver_path)\n",
    "\n",
    "driver.get('https://data.eco-counter.com/public2/?&id=100019726')\n",
    "\n",
    "# wait for page to load competletely\n",
    "time.sleep(3)"
   ]
  },
  {
   "cell_type": "code",
   "execution_count": 2,
   "id": "9e12f3c5",
   "metadata": {},
   "outputs": [],
   "source": [
    "# get all requests made by the page\n",
    "all_requests = driver.requests"
   ]
  },
  {
   "cell_type": "code",
   "execution_count": 3,
   "id": "387c1b7b",
   "metadata": {},
   "outputs": [],
   "source": [
    "TARGET_URL = \"www.eco-visio.net\"\n",
    "GET_REQUEST = \"\""
   ]
  },
  {
   "cell_type": "markdown",
   "id": "992c34be",
   "metadata": {},
   "source": [
    "Filter out the get request made to the database"
   ]
  },
  {
   "cell_type": "code",
   "execution_count": 4,
   "id": "d8d52607",
   "metadata": {},
   "outputs": [
    {
     "name": "stdout",
     "output_type": "stream",
     "text": [
      "https://www.eco-visio.net/api/aladdin/1.0.0/pbl/publicwebpage/data/100019726?begin=20150601&end=20210921&step=4&domain=4701&withNull=true&t=4a26c833613dbe87908c38a9136cb2e1a9dbe76af315f5458ec121345d775831\n"
     ]
    }
   ],
   "source": [
    "for request in all_requests:\n",
    "    # parse url and filter out query param\n",
    "    parsed_url = urlparse(request.url)\n",
    "    query_dictionary = parse_qs(parsed_url.query)\n",
    "    # check if target url matches and has a token in query\n",
    "    if (parsed_url.netloc == TARGET_URL and \"t\" in query_dictionary):\n",
    "        GET_REQUEST = request\n",
    "        print(GET_REQUEST.url)\n",
    "        break"
   ]
  },
  {
   "cell_type": "code",
   "execution_count": 9,
   "id": "a0b3711f",
   "metadata": {},
   "outputs": [],
   "source": [
    "parsed_url = urlparse(GET_REQUEST.url)\n",
    "query_dictionary = parse_qs(parsed_url.query)"
   ]
  },
  {
   "cell_type": "code",
   "execution_count": 12,
   "id": "f4e7693e",
   "metadata": {},
   "outputs": [
    {
     "data": {
      "text/plain": [
       "ParseResult(scheme='https', netloc='www.eco-visio.net', path='/api/aladdin/1.0.0/pbl/publicwebpage/data/100019726', params='', query='begin=20150601&end=20210921&step=4&domain=4701&withNull=true&t=4a26c833613dbe87908c38a9136cb2e1a9dbe76af315f5458ec121345d775831', fragment='')"
      ]
     },
     "execution_count": 12,
     "metadata": {},
     "output_type": "execute_result"
    }
   ],
   "source": [
    "parsed_url"
   ]
  },
  {
   "cell_type": "code",
   "execution_count": 40,
   "id": "050af4df",
   "metadata": {},
   "outputs": [
    {
     "data": {
      "text/plain": [
       "{'begin': ['20150601'],\n",
       " 'end': ['20210921'],\n",
       " 'step': ['4'],\n",
       " 'domain': ['4701'],\n",
       " 'withNull': ['true'],\n",
       " 't': ['4a26c833613dbe87908c38a9136cb2e1a9dbe76af315f5458ec121345d775831']}"
      ]
     },
     "execution_count": 40,
     "metadata": {},
     "output_type": "execute_result"
    }
   ],
   "source": [
    "query_dictionary = parse_qs(parsed_url.query)\n",
    "query_dictionary"
   ]
  },
  {
   "cell_type": "markdown",
   "id": "d6835af1",
   "metadata": {},
   "source": [
    "Define Query Parameters for fetching the Data"
   ]
  },
  {
   "cell_type": "code",
   "execution_count": 47,
   "id": "6cefa53f",
   "metadata": {},
   "outputs": [],
   "source": [
    "BEGIN = 20160101\n",
    "END = 20210921\n",
    "STEP = 2"
   ]
  },
  {
   "cell_type": "code",
   "execution_count": 48,
   "id": "b964c3b7",
   "metadata": {},
   "outputs": [],
   "source": [
    "query_dictionary[\"begin\"] = BEGIN\n",
    "query_dictionary[\"end\"] = END\n",
    "query_dictionary[\"step\"] = STEP"
   ]
  },
  {
   "cell_type": "code",
   "execution_count": 49,
   "id": "e3787d03",
   "metadata": {},
   "outputs": [
    {
     "data": {
      "text/plain": [
       "{'begin': 20160101,\n",
       " 'end': 20210921,\n",
       " 'step': 2,\n",
       " 'domain': ['4701'],\n",
       " 'withNull': 'true',\n",
       " 't': ['4a26c833613dbe87908c38a9136cb2e1a9dbe76af315f5458ec121345d775831']}"
      ]
     },
     "execution_count": 49,
     "metadata": {},
     "output_type": "execute_result"
    }
   ],
   "source": [
    "query_dictionary"
   ]
  },
  {
   "cell_type": "markdown",
   "id": "e19ab66f",
   "metadata": {},
   "source": [
    "Make Request and fetch the data"
   ]
  },
  {
   "cell_type": "code",
   "execution_count": null,
   "id": "bef03d87",
   "metadata": {},
   "outputs": [],
   "source": [
    "url_endpoint = parsed_url.scheme + \"://\" + parsed_url.netloc + parsed_url.path\n",
    "response = requests.get(url_endpoint, params=query_dictionary)\n",
    "response"
   ]
  },
  {
   "cell_type": "code",
   "execution_count": null,
   "id": "1b592348",
   "metadata": {},
   "outputs": [],
   "source": [
    "resp.content"
   ]
  },
  {
   "cell_type": "code",
   "execution_count": null,
   "id": "62b19397",
   "metadata": {},
   "outputs": [],
   "source": []
  }
 ],
 "metadata": {
  "kernelspec": {
   "display_name": "Python 3 (ipykernel)",
   "language": "python",
   "name": "python3"
  },
  "language_info": {
   "codemirror_mode": {
    "name": "ipython",
    "version": 3
   },
   "file_extension": ".py",
   "mimetype": "text/x-python",
   "name": "python",
   "nbconvert_exporter": "python",
   "pygments_lexer": "ipython3",
   "version": "3.9.7"
  }
 },
 "nbformat": 4,
 "nbformat_minor": 5
}
