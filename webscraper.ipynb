{
 "cells": [
  {
   "cell_type": "code",
   "execution_count": 1,
   "id": "dce37d78",
   "metadata": {},
   "outputs": [],
   "source": [
    "from seleniumwire import webdriver\n",
    "import time\n",
    "import pathlib\n",
    "import os\n",
    "import requests\n",
    "from urllib.parse import urlparse, parse_qs\n",
    "from io import BytesIO\n",
    "import pandas as pd\n",
    "import json\n"
   ]
  },
  {
   "cell_type": "markdown",
   "id": "6ac352c7",
   "metadata": {},
   "source": [
    "# Get metadata of all bike counting stations of a certain city"
   ]
  },
  {
   "cell_type": "code",
   "execution_count": 33,
   "id": "6e6a7b5a",
   "metadata": {},
   "outputs": [],
   "source": [
    "URL_STUTTGART = 'https://data.eco-counter.com/ParcPublic/?id=607#'"
   ]
  },
  {
   "cell_type": "code",
   "execution_count": 35,
   "id": "0749789a",
   "metadata": {},
   "outputs": [],
   "source": [
    "# get driver path\n",
    "current_path = pathlib.Path().resolve()\n",
    "driver_path = os.path.join(current_path, \"chromedriver\")\n",
    "\n",
    "driver = webdriver.Chrome(driver_path)\n",
    "\n",
    "driver.get(URL_STUTTGART)\n",
    "\n",
    "# wait for page to load competletely\n",
    "time.sleep(1)"
   ]
  },
  {
   "cell_type": "code",
   "execution_count": 36,
   "id": "9e12f3c5",
   "metadata": {},
   "outputs": [],
   "source": [
    "# get all requests made by the page\n",
    "all_requests = driver.requests"
   ]
  },
  {
   "cell_type": "code",
   "execution_count": 37,
   "id": "387c1b7b",
   "metadata": {},
   "outputs": [],
   "source": [
    "# define target url, which shall be filtered out\n",
    "TARGET_URL = \"www.eco-visio.net\"\n",
    "GET_REQUEST = \"\""
   ]
  },
  {
   "cell_type": "markdown",
   "id": "992c34be",
   "metadata": {},
   "source": [
    "Filter out the get request made to the database and get the metadata of all bike counting stations in a city"
   ]
  },
  {
   "cell_type": "code",
   "execution_count": 38,
   "id": "a297b9c3",
   "metadata": {},
   "outputs": [
    {
     "name": "stdout",
     "output_type": "stream",
     "text": [
      "https://www.eco-visio.net/api/aladdin/1.0.0/pbl/publicwebpageplus/607?withNull=true\n"
     ]
    }
   ],
   "source": [
    "for request in all_requests:\n",
    "    # parse url and filter out query param\n",
    "    parsed_url = urlparse(request.url)\n",
    "    query_dictionary = parse_qs(parsed_url.query)\n",
    "    # check if target url matches\n",
    "    if (parsed_url.netloc == TARGET_URL):\n",
    "        GET_REQUEST = request\n",
    "        print(GET_REQUEST.url)\n",
    "        break"
   ]
  },
  {
   "cell_type": "markdown",
   "id": "35975f01",
   "metadata": {},
   "source": [
    "Fetch metadata information of all counting stations of a certain city"
   ]
  },
  {
   "cell_type": "code",
   "execution_count": 39,
   "id": "3670e188",
   "metadata": {},
   "outputs": [
    {
     "data": {
      "text/plain": [
       "<Response [200]>"
      ]
     },
     "execution_count": 39,
     "metadata": {},
     "output_type": "execute_result"
    }
   ],
   "source": [
    "url_endpoint = GET_REQUEST\n",
    "response = requests.get(url_endpoint)\n",
    "response"
   ]
  },
  {
   "cell_type": "markdown",
   "id": "51367a92",
   "metadata": {},
   "source": [
    "extract relevant metadata of the counting stations and save it to json file"
   ]
  },
  {
   "cell_type": "code",
   "execution_count": 44,
   "id": "ac170b4d",
   "metadata": {},
   "outputs": [],
   "source": [
    "data_json = json.loads(response.content)"
   ]
  },
  {
   "cell_type": "code",
   "execution_count": 45,
   "id": "492a83b5",
   "metadata": {},
   "outputs": [],
   "source": [
    "counting_station_list = []\n",
    "for counting_station in data_json:\n",
    "    counting_station_dict = {}\n",
    "    counting_station_dict[\"id\"] = counting_station[\"idPdc\"]\n",
    "    counting_station_dict[\"name\"] = counting_station[\"nom\"]\n",
    "    counting_station_dict[\"latitude\"] = counting_station[\"lat\"]\n",
    "    counting_station_dict[\"longitude\"] = counting_station[\"lon\"]\n",
    "    counting_station_dict[\"start_time\"] = counting_station[\"debut\"]\n",
    "    counting_station_list.append(counting_station_dict) "
   ]
  },
  {
   "cell_type": "code",
   "execution_count": 46,
   "id": "d251f6d4",
   "metadata": {},
   "outputs": [],
   "source": [
    "data = {}\n",
    "data['Stuttgart'] = counting_station_list"
   ]
  },
  {
   "cell_type": "code",
   "execution_count": 47,
   "id": "54de4508",
   "metadata": {},
   "outputs": [],
   "source": [
    "with open('counting_stations_metadata.json', 'w') as outfile:\n",
    "    json.dump(data, outfile)"
   ]
  },
  {
   "cell_type": "markdown",
   "id": "d9f20d51",
   "metadata": {},
   "source": [
    "# Get data from bike counting stations"
   ]
  },
  {
   "cell_type": "code",
   "execution_count": 15,
   "id": "8b2cb3c5",
   "metadata": {},
   "outputs": [],
   "source": [
    "file = open('counting_stations_metadata.json',)\n",
    "counting_stations_metadata = json.load(file)\n",
    "# select counting station\n"
   ]
  },
  {
   "cell_type": "code",
   "execution_count": 48,
   "id": "47815c61",
   "metadata": {},
   "outputs": [
    {
     "data": {
      "text/plain": [
       "{'Stuttgart': [{'id': 100034882,\n",
       "   'name': 'König-Karls-Brücke Barometer',\n",
       "   'latitude': 48.79912609299229,\n",
       "   'longitude': 9.210372161982697,\n",
       "   'start_time': '01/01/2014'},\n",
       "  {'id': 100034894,\n",
       "   'name': 'Böblinger Straße',\n",
       "   'latitude': 48.74661091153218,\n",
       "   'longitude': 9.135662267916839,\n",
       "   'start_time': '01/01/2014'},\n",
       "  {'id': 100042486,\n",
       "   'name': 'Taubenheimstraße',\n",
       "   'latitude': 48.804909684344075,\n",
       "   'longitude': 9.226946272791574,\n",
       "   'start_time': '01/01/2014'},\n",
       "  {'id': 100042487,\n",
       "   'name': 'Waiblinger Straße',\n",
       "   'latitude': 48.80513535517377,\n",
       "   'longitude': 9.225987627445804,\n",
       "   'start_time': '01/01/2014'},\n",
       "  {'id': 100060100,\n",
       "   'name': 'Samaraweg',\n",
       "   'latitude': 48.80811,\n",
       "   'longitude': 9.18551,\n",
       "   'start_time': '01/01/2014'},\n",
       "  {'id': 100061257,\n",
       "   'name': 'Waldburgstraße',\n",
       "   'latitude': 48.716494,\n",
       "   'longitude': 9.08652,\n",
       "   'start_time': '01/01/2014'},\n",
       "  {'id': 100061633,\n",
       "   'name': 'Kremmlerstraße',\n",
       "   'latitude': 48.739821,\n",
       "   'longitude': 9.152228,\n",
       "   'start_time': '01/01/2014'},\n",
       "  {'id': 100061648,\n",
       "   'name': 'Kirchheimer Straße',\n",
       "   'latitude': 48.740003,\n",
       "   'longitude': 9.226692,\n",
       "   'start_time': '01/01/2014'},\n",
       "  {'id': 100062943,\n",
       "   'name': 'Stuttgarter Straße',\n",
       "   'latitude': 48.8115094776975,\n",
       "   'longitude': 9.167497239565906,\n",
       "   'start_time': '01/01/2014'},\n",
       "  {'id': 100062945,\n",
       "   'name': 'Solitudestraße',\n",
       "   'latitude': 48.809354,\n",
       "   'longitude': 9.105381,\n",
       "   'start_time': '01/01/2014'},\n",
       "  {'id': 100063203,\n",
       "   'name': 'Am Kräherwald',\n",
       "   'latitude': 48.78424,\n",
       "   'longitude': 9.147031,\n",
       "   'start_time': '01/01/2014'},\n",
       "  {'id': 100063204,\n",
       "   'name': 'Inselstraße',\n",
       "   'latitude': 48.779637,\n",
       "   'longitude': 9.248607,\n",
       "   'start_time': '01/01/2014'},\n",
       "  {'id': 100063205,\n",
       "   'name': 'Neckartalstraße',\n",
       "   'latitude': 48.826,\n",
       "   'longitude': 9.21488,\n",
       "   'start_time': '01/01/2014'},\n",
       "  {'id': 100063206,\n",
       "   'name': 'Lautenschlager Straße',\n",
       "   'latitude': 48.78027,\n",
       "   'longitude': 9.17741,\n",
       "   'start_time': '01/01/2014'},\n",
       "  {'id': 100063225,\n",
       "   'name': 'Tübinger Straße',\n",
       "   'latitude': 48.76976122395633,\n",
       "   'longitude': 9.172275119691045,\n",
       "   'start_time': '01/01/2014'}]}"
      ]
     },
     "execution_count": 48,
     "metadata": {},
     "output_type": "execute_result"
    }
   ],
   "source": [
    "counting_stations_metadata"
   ]
  },
  {
   "cell_type": "code",
   "execution_count": null,
   "id": "ea15bb04",
   "metadata": {},
   "outputs": [],
   "source": [
    "i = 4"
   ]
  },
  {
   "cell_type": "markdown",
   "id": "906ff9cf",
   "metadata": {},
   "source": [
    "Create URL for specific bike counting station"
   ]
  },
  {
   "cell_type": "code",
   "execution_count": 49,
   "id": "7a968b2a",
   "metadata": {},
   "outputs": [],
   "source": [
    "BASE_URL = \"https://data.eco-counter.com/public2/?id=\" +  str(counting_stations_metadata[\"Stuttgart\"][i][\"id\"])"
   ]
  },
  {
   "cell_type": "code",
   "execution_count": 17,
   "id": "5bd5f5bc",
   "metadata": {},
   "outputs": [],
   "source": [
    "driver.get(BASE_URL)\n",
    "\n",
    "# wait for page to load competletely\n",
    "time.sleep(1)\n",
    "\n",
    "# get all requests made by the page\n",
    "all_requests = driver.requests\n",
    "\n",
    "# define target url, which shall be filtered out\n",
    "TARGET_URL = \"www.eco-visio.net\"\n",
    "GET_REQUEST = \"\""
   ]
  },
  {
   "cell_type": "code",
   "execution_count": 18,
   "id": "d8d52607",
   "metadata": {},
   "outputs": [
    {
     "name": "stdout",
     "output_type": "stream",
     "text": [
      "https://www.eco-visio.net/api/aladdin/1.0.0/pbl/publicwebpage/data/101034882?begin=20120701&end=20210921&step=4&domain=607&t=539b0b5e3aa991d2e60ebfc0136bb099d27a5c26b2a2a413cd0f3b77bd5b2f2e&withNull=true\n"
     ]
    }
   ],
   "source": [
    "for request in all_requests:\n",
    "    # parse url and filter out query param\n",
    "    parsed_url = urlparse(request.url)\n",
    "    query_dictionary = parse_qs(parsed_url.query)\n",
    "    # check if target url matches and has a token in query\n",
    "    if (parsed_url.netloc == TARGET_URL and \"t\" in query_dictionary):\n",
    "        GET_REQUEST = request\n",
    "        print(GET_REQUEST.url)\n",
    "        break"
   ]
  },
  {
   "cell_type": "code",
   "execution_count": 19,
   "id": "56f3e4b8",
   "metadata": {},
   "outputs": [],
   "source": [
    "parsed_url = urlparse(GET_REQUEST.url)\n",
    "query_dictionary = parse_qs(parsed_url.query)"
   ]
  },
  {
   "cell_type": "code",
   "execution_count": 20,
   "id": "678ed999",
   "metadata": {},
   "outputs": [
    {
     "data": {
      "text/plain": [
       "ParseResult(scheme='https', netloc='www.eco-visio.net', path='/api/aladdin/1.0.0/pbl/publicwebpage/data/101034882', params='', query='begin=20120701&end=20210921&step=4&domain=607&t=539b0b5e3aa991d2e60ebfc0136bb099d27a5c26b2a2a413cd0f3b77bd5b2f2e&withNull=true', fragment='')"
      ]
     },
     "execution_count": 20,
     "metadata": {},
     "output_type": "execute_result"
    }
   ],
   "source": [
    "parsed_url"
   ]
  },
  {
   "cell_type": "code",
   "execution_count": 21,
   "id": "050af4df",
   "metadata": {},
   "outputs": [
    {
     "data": {
      "text/plain": [
       "{'begin': ['20120701'],\n",
       " 'end': ['20210921'],\n",
       " 'step': ['4'],\n",
       " 'domain': ['607'],\n",
       " 't': ['539b0b5e3aa991d2e60ebfc0136bb099d27a5c26b2a2a413cd0f3b77bd5b2f2e'],\n",
       " 'withNull': ['true']}"
      ]
     },
     "execution_count": 21,
     "metadata": {},
     "output_type": "execute_result"
    }
   ],
   "source": [
    "query_dictionary = parse_qs(parsed_url.query)\n",
    "query_dictionary"
   ]
  },
  {
   "cell_type": "markdown",
   "id": "cb879a11",
   "metadata": {},
   "source": [
    "Define Query Parameters for fetching the Data"
   ]
  },
  {
   "cell_type": "code",
   "execution_count": 50,
   "id": "45c14e34",
   "metadata": {},
   "outputs": [],
   "source": [
    "BEGIN = 20160101\n",
    "END = 20210921\n",
    "STEP = 2"
   ]
  },
  {
   "cell_type": "code",
   "execution_count": 51,
   "id": "6bb68aec",
   "metadata": {},
   "outputs": [],
   "source": [
    "query_dictionary[\"begin\"] = BEGIN\n",
    "query_dictionary[\"end\"] = END\n",
    "query_dictionary[\"step\"] = STEP"
   ]
  },
  {
   "cell_type": "code",
   "execution_count": 52,
   "id": "4fcbaa39",
   "metadata": {},
   "outputs": [
    {
     "data": {
      "text/plain": [
       "{'withNull': ['true'], 'begin': 20160101, 'end': 20210921, 'step': 2}"
      ]
     },
     "execution_count": 52,
     "metadata": {},
     "output_type": "execute_result"
    }
   ],
   "source": [
    "query_dictionary"
   ]
  },
  {
   "cell_type": "markdown",
   "id": "06f1fe96",
   "metadata": {},
   "source": [
    "Make Request and fetch the data"
   ]
  },
  {
   "cell_type": "code",
   "execution_count": 53,
   "id": "bef03d87",
   "metadata": {},
   "outputs": [
    {
     "data": {
      "text/plain": [
       "<Response [200]>"
      ]
     },
     "execution_count": 53,
     "metadata": {},
     "output_type": "execute_result"
    }
   ],
   "source": [
    "url_endpoint = parsed_url.scheme + \"://\" + parsed_url.netloc + parsed_url.path\n",
    "response = requests.get(url_endpoint, params=query_dictionary)\n",
    "response"
   ]
  },
  {
   "cell_type": "markdown",
   "id": "cce037d3",
   "metadata": {},
   "source": [
    "Convert fetched data stream to csv"
   ]
  },
  {
   "cell_type": "code",
   "execution_count": 54,
   "id": "0269c9c6",
   "metadata": {},
   "outputs": [
    {
     "data": {
      "text/plain": [
       "{'token': None,\n",
       " 'id_pdc_img': 0,\n",
       " 'idPdc': 100034882,\n",
       " 'lat': 48.79912609299229,\n",
       " 'lon': 9.210372161982697,\n",
       " 'nom': 'König-Karls-Brücke Barometer',\n",
       " 'publicMessage': None,\n",
       " 'photo': [{'lien': 'https://filer.eco-counter-tools.com/file/88/d6fbfa7f9c35d3b68cdaa2785a1df5cff4602c442b0d5983c2c5a321f7168088/Koenig_Karl_Bruecke_Radzaehlstelle_0059.JPG'},\n",
       "  {'lien': 'https://filer.eco-counter-tools.com/file/a2/69adabd2683d6bafba504d778721d417cb73453f3dd06e3849bd10d1bba2fda2/Koenig_Karl_Bruecke_Radzaehlstelle_0147.JPG'},\n",
       "  {'lien': 'https://filer.eco-counter-tools.com/file/45/ad6a83dcd2ec6cccb1f3cef91c205c908938a43decf9592b2292089ef728c645/Koenig_Karl_Bruecke_Radzaehlstelle_0023.JPG'}],\n",
       " 'lienPublic': '100034882',\n",
       " 'pratique': [{'pratique': 2, 'id': 101034882},\n",
       "  {'pratique': 2, 'id': 102034882},\n",
       "  {'pratique': 2, 'id': 103034882},\n",
       "  {'pratique': 2, 'id': 104034882}],\n",
       " 'mainPratique': 2,\n",
       " 'filtre': None,\n",
       " 'formule_site': None,\n",
       " 'fin': None,\n",
       " 'debut': '01/01/2014',\n",
       " 'finPeriode': '20210921',\n",
       " 'debutPeriode': '20160101',\n",
       " 'current_year_default': 1,\n",
       " 'externalUrl': 'http://www.stuttgart.de/fahrradzaehlstellen',\n",
       " 'nomOrganisme': 'Landeshauptstadt Stuttgart',\n",
       " 'logo': 'https://filer.eco-counter-tools.com/file/8a/2aa6ae84c8d36d75a2db53addf394daed43781177dac8aa9008db6710935e28a/1494236627434.png',\n",
       " 'pays': 'de',\n",
       " 'sig': 1,\n",
       " 'pictoPublic': None,\n",
       " 'today': '21/09/2021',\n",
       " 'total': 8572174,\n",
       " 'lastDay': 4185,\n",
       " 'moyD': 2544,\n",
       " 'totalLY': None,\n",
       " 'lastDay8': None,\n",
       " 'moyDLY': None,\n",
       " 'nbDays': None,\n",
       " 'nbDaysLY': None}"
      ]
     },
     "execution_count": 54,
     "metadata": {},
     "output_type": "execute_result"
    }
   ],
   "source": [
    "data_json = json.loads(response.content)\n",
    "data_json[0]"
   ]
  },
  {
   "cell_type": "code",
   "execution_count": 55,
   "id": "fe720b42",
   "metadata": {},
   "outputs": [],
   "source": [
    "keys = data_json[0].keys()\n",
    "date_list = []\n",
    "comptage_list = []\n",
    "timestamp_list = []"
   ]
  },
  {
   "cell_type": "code",
   "execution_count": 28,
   "id": "f96b6b42",
   "metadata": {},
   "outputs": [],
   "source": [
    "for data_object in data_json:\n",
    "    date_list.append(data_object[\"date\"])\n",
    "    comptage_list.append(data_object[\"comptage\"])\n",
    "    timestamp_list.append(data_object[\"timestamp\"])"
   ]
  },
  {
   "cell_type": "code",
   "execution_count": 29,
   "id": "6c757044",
   "metadata": {},
   "outputs": [],
   "source": [
    "columns = [\"date\", \"comptage\", \"timestamp\"]"
   ]
  },
  {
   "cell_type": "code",
   "execution_count": 30,
   "id": "43b71e19",
   "metadata": {},
   "outputs": [],
   "source": [
    "# Calling DataFrame constructor after zipping\n",
    "# both lists, with columns specified\n",
    "df = pd.DataFrame(list(zip(date_list, comptage_list,timestamp_list)),\n",
    "               columns =columns)"
   ]
  },
  {
   "cell_type": "code",
   "execution_count": 31,
   "id": "7dfe6ca5",
   "metadata": {},
   "outputs": [],
   "source": [
    "df.to_csv(\"test.csv\")"
   ]
  },
  {
   "cell_type": "code",
   "execution_count": null,
   "id": "f0743d54",
   "metadata": {},
   "outputs": [],
   "source": []
  }
 ],
 "metadata": {
  "kernelspec": {
   "display_name": "Python 3 (ipykernel)",
   "language": "python",
   "name": "python3"
  },
  "language_info": {
   "codemirror_mode": {
    "name": "ipython",
    "version": 3
   },
   "file_extension": ".py",
   "mimetype": "text/x-python",
   "name": "python",
   "nbconvert_exporter": "python",
   "pygments_lexer": "ipython3",
   "version": "3.9.7"
  }
 },
 "nbformat": 4,
 "nbformat_minor": 5
}
