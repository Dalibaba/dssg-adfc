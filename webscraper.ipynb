{
 "cells": [
  {
   "cell_type": "code",
   "execution_count": null,
   "id": "dce37d78",
   "metadata": {},
   "outputs": [],
   "source": [
    "from seleniumwire import webdriver\n",
    "import time\n",
    "import pathlib\n",
    "import os\n",
    "import requests\n",
    "from urllib.parse import urlparse, parse_qs\n",
    "from io import BytesIO\n",
    "import pandas as pd\n",
    "import json\n"
   ]
  },
  {
   "cell_type": "markdown",
   "id": "7c4ea851",
   "metadata": {},
   "source": [
    "# Get metadata of all bike counting stations of a certain city"
   ]
  },
  {
   "cell_type": "code",
   "execution_count": null,
   "id": "d30440e3",
   "metadata": {},
   "outputs": [],
   "source": [
    "URL_STUTTGART = 'https://data.eco-counter.com/ParcPublic/?id=607#'"
   ]
  },
  {
   "cell_type": "code",
   "execution_count": null,
   "id": "18fb7e56",
   "metadata": {},
   "outputs": [],
   "source": [
    "# get driver path\n",
    "current_path = pathlib.Path().resolve()\n",
    "driver_path = os.path.join(current_path, \"chromedriver\")\n",
    "\n",
    "driver = webdriver.Chrome(driver_path)\n",
    "\n",
    "driver.get(URL_STUTTGART)\n",
    "\n",
    "# wait for page to load competletely\n",
    "time.sleep(1)"
   ]
  },
  {
   "cell_type": "code",
   "execution_count": null,
   "id": "9e12f3c5",
   "metadata": {},
   "outputs": [],
   "source": [
    "# get all requests made by the page\n",
    "all_requests = driver.requests"
   ]
  },
  {
   "cell_type": "code",
   "execution_count": 5,
   "id": "387c1b7b",
   "metadata": {},
   "outputs": [],
   "source": [
    "# define target url, which shall be filtered out\n",
    "TARGET_URL = \"www.eco-visio.net\"\n",
    "GET_REQUEST = \"\""
   ]
  },
  {
   "cell_type": "markdown",
   "id": "992c34be",
   "metadata": {},
   "source": [
    "Filter out the get request made to the database and get the metadata of all bike counting stations in a city"
   ]
  },
  {
   "cell_type": "code",
   "execution_count": 6,
   "id": "4427aa2e",
   "metadata": {},
   "outputs": [
    {
     "name": "stdout",
     "output_type": "stream",
     "text": [
      "https://www.eco-visio.net/api/aladdin/1.0.0/pbl/publicwebpageplus/607?withNull=true\n"
     ]
    }
   ],
   "source": [
    "for request in all_requests:\n",
    "    # parse url and filter out query param\n",
    "    parsed_url = urlparse(request.url)\n",
    "    query_dictionary = parse_qs(parsed_url.query)\n",
    "    # check if target url matches\n",
    "    if (parsed_url.netloc == TARGET_URL):\n",
    "        GET_REQUEST = request\n",
    "        print(GET_REQUEST.url)\n",
    "        break"
   ]
  },
  {
   "cell_type": "markdown",
   "id": "ccf29c11",
   "metadata": {},
   "source": [
    "Fetch metadata information of all counting stations of a certain city"
   ]
  },
  {
   "cell_type": "code",
   "execution_count": 7,
   "id": "51ec986f",
   "metadata": {},
   "outputs": [
    {
     "data": {
      "text/plain": [
       "<Response [200]>"
      ]
     },
     "execution_count": 7,
     "metadata": {},
     "output_type": "execute_result"
    }
   ],
   "source": [
    "url_endpoint = GET_REQUEST\n",
    "response = requests.get(url_endpoint)\n",
    "response"
   ]
  },
  {
   "cell_type": "markdown",
   "id": "72c1d26c",
   "metadata": {},
   "source": [
    "extract relevant metadata of the counting stations and save it to json file"
   ]
  },
  {
   "cell_type": "code",
   "execution_count": 8,
   "id": "bb3036cd",
   "metadata": {},
   "outputs": [],
   "source": [
    "data_json = json.loads(response.content)"
   ]
  },
  {
   "cell_type": "code",
   "execution_count": 9,
   "id": "be2f9f81",
   "metadata": {},
   "outputs": [],
   "source": [
    "counting_station_list = []\n",
    "for counting_station in data_json:\n",
    "    counting_station_dict = {}\n",
    "    counting_station_dict[\"id\"] = counting_station[\"idPdc\"]\n",
    "    counting_station_dict[\"name\"] = counting_station[\"nom\"]\n",
    "    counting_station_dict[\"latitude\"] = counting_station[\"lat\"]\n",
    "    counting_station_dict[\"longitude\"] = counting_station[\"lon\"]\n",
    "    counting_station_dict[\"start_time\"] = counting_station[\"debut\"]\n",
    "    counting_station_list.append(counting_station_dict) "
   ]
  },
  {
   "cell_type": "code",
   "execution_count": 10,
   "id": "6c00892f",
   "metadata": {},
   "outputs": [],
   "source": [
    "data = {}\n",
    "data['Stuttgart'] = counting_station_list"
   ]
  },
  {
   "cell_type": "code",
   "execution_count": 11,
   "id": "b076ed96",
   "metadata": {},
   "outputs": [],
   "source": [
    "with open('counting_stations_metadata.json', 'w') as outfile:\n",
    "    json.dump(data, outfile)"
   ]
  },
  {
   "cell_type": "markdown",
   "id": "1328d646",
   "metadata": {},
   "source": [
    "# Get data from bike counting stations"
   ]
  },
  {
   "cell_type": "code",
   "execution_count": 12,
   "id": "9ac57cf6",
   "metadata": {},
   "outputs": [],
   "source": [
    "file = open('counting_stations_metadata.json',)\n",
    "counting_stations_metadata = json.load(file)\n",
    "# select counting station\n"
   ]
  },
  {
   "cell_type": "code",
   "execution_count": 13,
   "id": "c5e5c44c",
   "metadata": {},
   "outputs": [
    {
     "data": {
      "text/plain": [
       "{'Stuttgart': [{'id': 100034882,\n",
       "   'name': 'König-Karls-Brücke Barometer',\n",
       "   'latitude': 48.79912609299229,\n",
       "   'longitude': 9.210372161982697,\n",
       "   'start_time': '01/01/2014'},\n",
       "  {'id': 100034894,\n",
       "   'name': 'Böblinger Straße',\n",
       "   'latitude': 48.74661091153218,\n",
       "   'longitude': 9.135662267916839,\n",
       "   'start_time': '01/01/2014'},\n",
       "  {'id': 100042486,\n",
       "   'name': 'Taubenheimstraße',\n",
       "   'latitude': 48.804909684344075,\n",
       "   'longitude': 9.226946272791574,\n",
       "   'start_time': '01/01/2014'},\n",
       "  {'id': 100042487,\n",
       "   'name': 'Waiblinger Straße',\n",
       "   'latitude': 48.80513535517377,\n",
       "   'longitude': 9.225987627445804,\n",
       "   'start_time': '01/01/2014'},\n",
       "  {'id': 100060100,\n",
       "   'name': 'Samaraweg',\n",
       "   'latitude': 48.80811,\n",
       "   'longitude': 9.18551,\n",
       "   'start_time': '01/01/2014'},\n",
       "  {'id': 100061257,\n",
       "   'name': 'Waldburgstraße',\n",
       "   'latitude': 48.716494,\n",
       "   'longitude': 9.08652,\n",
       "   'start_time': '01/01/2014'},\n",
       "  {'id': 100061633,\n",
       "   'name': 'Kremmlerstraße',\n",
       "   'latitude': 48.739821,\n",
       "   'longitude': 9.152228,\n",
       "   'start_time': '01/01/2014'},\n",
       "  {'id': 100061648,\n",
       "   'name': 'Kirchheimer Straße',\n",
       "   'latitude': 48.740003,\n",
       "   'longitude': 9.226692,\n",
       "   'start_time': '01/01/2014'},\n",
       "  {'id': 100062943,\n",
       "   'name': 'Stuttgarter Straße',\n",
       "   'latitude': 48.8115094776975,\n",
       "   'longitude': 9.167497239565906,\n",
       "   'start_time': '01/01/2014'},\n",
       "  {'id': 100062945,\n",
       "   'name': 'Solitudestraße',\n",
       "   'latitude': 48.809354,\n",
       "   'longitude': 9.105381,\n",
       "   'start_time': '01/01/2014'},\n",
       "  {'id': 100063203,\n",
       "   'name': 'Am Kräherwald',\n",
       "   'latitude': 48.78424,\n",
       "   'longitude': 9.147031,\n",
       "   'start_time': '01/01/2014'},\n",
       "  {'id': 100063204,\n",
       "   'name': 'Inselstraße',\n",
       "   'latitude': 48.779637,\n",
       "   'longitude': 9.248607,\n",
       "   'start_time': '01/01/2014'},\n",
       "  {'id': 100063205,\n",
       "   'name': 'Neckartalstraße',\n",
       "   'latitude': 48.826,\n",
       "   'longitude': 9.21488,\n",
       "   'start_time': '01/01/2014'},\n",
       "  {'id': 100063206,\n",
       "   'name': 'Lautenschlager Straße',\n",
       "   'latitude': 48.78027,\n",
       "   'longitude': 9.17741,\n",
       "   'start_time': '01/01/2014'},\n",
       "  {'id': 100063225,\n",
       "   'name': 'Tübinger Straße',\n",
       "   'latitude': 48.76976122395633,\n",
       "   'longitude': 9.172275119691045,\n",
       "   'start_time': '01/01/2014'}]}"
      ]
     },
     "execution_count": 13,
     "metadata": {},
     "output_type": "execute_result"
    }
   ],
   "source": [
    "counting_stations_metadata"
   ]
  },
  {
   "cell_type": "code",
   "execution_count": 14,
   "id": "10b0ca4b",
   "metadata": {},
   "outputs": [],
   "source": [
    "i = 4"
   ]
  },
  {
   "cell_type": "markdown",
   "id": "dc5fff56",
   "metadata": {},
   "source": [
    "Create URL for specific bike counting station"
   ]
  },
  {
   "cell_type": "code",
   "execution_count": 15,
   "id": "6147bd6b",
   "metadata": {},
   "outputs": [],
   "source": [
    "BASE_URL = \"https://data.eco-counter.com/public2/?id=\" +  str(counting_stations_metadata[\"Stuttgart\"][i][\"id\"])"
   ]
  },
  {
   "cell_type": "code",
   "execution_count": 16,
   "id": "50ab6e85",
   "metadata": {},
   "outputs": [],
   "source": [
    "driver.get(BASE_URL)\n",
    "\n",
    "# wait for page to load competletely\n",
    "time.sleep(1)\n",
    "\n",
    "# get all requests made by the page\n",
    "all_requests = driver.requests\n",
    "\n",
    "# define target url, which shall be filtered out\n",
    "TARGET_URL = \"www.eco-visio.net\"\n",
    "GET_REQUEST = \"\""
   ]
  },
  {
   "cell_type": "code",
   "execution_count": 17,
   "id": "d8d52607",
   "metadata": {},
   "outputs": [
    {
     "name": "stdout",
     "output_type": "stream",
     "text": [
      "https://www.eco-visio.net/api/aladdin/1.0.0/pbl/publicwebpage/data/100060100?begin=20200621&end=20210921&step=4&domain=607&withNull=true&t=b3098cd11ab3cb7bd4e11ddf8ffdecbf88380ee9ce294faf79b86f886c38707a\n"
     ]
    }
   ],
   "source": [
    "for request in all_requests:\n",
    "    # parse url and filter out query param\n",
    "    parsed_url = urlparse(request.url)\n",
    "    query_dictionary = parse_qs(parsed_url.query)\n",
    "    # check if target url matches and has a token in query\n",
    "    if (parsed_url.netloc == TARGET_URL and \"t\" in query_dictionary):\n",
    "        GET_REQUEST = request\n",
    "        print(GET_REQUEST.url)\n",
    "        break"
   ]
  },
  {
   "cell_type": "code",
   "execution_count": 18,
   "id": "56f3e4b8",
   "metadata": {},
   "outputs": [],
   "source": [
    "parsed_url = urlparse(GET_REQUEST.url)\n",
    "query_dictionary = parse_qs(parsed_url.query)"
   ]
  },
  {
   "cell_type": "code",
   "execution_count": 19,
   "id": "678ed999",
   "metadata": {},
   "outputs": [
    {
     "data": {
      "text/plain": [
       "ParseResult(scheme='https', netloc='www.eco-visio.net', path='/api/aladdin/1.0.0/pbl/publicwebpage/data/100060100', params='', query='begin=20200621&end=20210921&step=4&domain=607&withNull=true&t=b3098cd11ab3cb7bd4e11ddf8ffdecbf88380ee9ce294faf79b86f886c38707a', fragment='')"
      ]
     },
     "execution_count": 19,
     "metadata": {},
     "output_type": "execute_result"
    }
   ],
   "source": [
    "parsed_url"
   ]
  },
  {
   "cell_type": "code",
   "execution_count": 20,
   "id": "050af4df",
   "metadata": {},
   "outputs": [
    {
     "data": {
      "text/plain": [
       "{'begin': ['20200621'],\n",
       " 'end': ['20210921'],\n",
       " 'step': ['4'],\n",
       " 'domain': ['607'],\n",
       " 'withNull': ['true'],\n",
       " 't': ['b3098cd11ab3cb7bd4e11ddf8ffdecbf88380ee9ce294faf79b86f886c38707a']}"
      ]
     },
     "execution_count": 20,
     "metadata": {},
     "output_type": "execute_result"
    }
   ],
   "source": [
    "query_dictionary = parse_qs(parsed_url.query)\n",
    "query_dictionary"
   ]
  },
  {
   "cell_type": "markdown",
   "id": "cb879a11",
   "metadata": {},
   "source": [
    "Define Query Parameters for fetching the Data"
   ]
  },
  {
   "cell_type": "code",
   "execution_count": 21,
   "id": "45c14e34",
   "metadata": {},
   "outputs": [],
   "source": [
    "BEGIN = 20160101\n",
    "END = 20210921\n",
    "STEP = 2"
   ]
  },
  {
   "cell_type": "code",
   "execution_count": 22,
   "id": "6bb68aec",
   "metadata": {},
   "outputs": [],
   "source": [
    "query_dictionary[\"begin\"] = BEGIN\n",
    "query_dictionary[\"end\"] = END\n",
    "query_dictionary[\"step\"] = STEP"
   ]
  },
  {
   "cell_type": "code",
   "execution_count": 23,
   "id": "4fcbaa39",
   "metadata": {},
   "outputs": [
    {
     "data": {
      "text/plain": [
       "{'begin': 20160101,\n",
       " 'end': 20210921,\n",
       " 'step': 2,\n",
       " 'domain': ['607'],\n",
       " 'withNull': ['true'],\n",
       " 't': ['b3098cd11ab3cb7bd4e11ddf8ffdecbf88380ee9ce294faf79b86f886c38707a']}"
      ]
     },
     "execution_count": 23,
     "metadata": {},
     "output_type": "execute_result"
    }
   ],
   "source": [
    "query_dictionary"
   ]
  },
  {
   "cell_type": "markdown",
   "id": "06f1fe96",
   "metadata": {},
   "source": [
    "Make Request and fetch the data"
   ]
  },
  {
   "cell_type": "code",
   "execution_count": 24,
   "id": "bef03d87",
   "metadata": {},
   "outputs": [
    {
     "data": {
      "text/plain": [
       "<Response [200]>"
      ]
     },
     "execution_count": 24,
     "metadata": {},
     "output_type": "execute_result"
    }
   ],
   "source": [
    "url_endpoint = parsed_url.scheme + \"://\" + parsed_url.netloc + parsed_url.path\n",
    "response = requests.get(url_endpoint, params=query_dictionary)\n",
    "response"
   ]
  },
  {
   "cell_type": "markdown",
   "id": "369588a5",
   "metadata": {},
   "source": [
    "Convert fetched data stream to csv"
   ]
  },
  {
   "cell_type": "code",
   "execution_count": 25,
   "id": "0269c9c6",
   "metadata": {},
   "outputs": [
    {
     "data": {
      "text/plain": [
       "{'date': '2020-06-23 00:00:00', 'comptage': 0, 'timestamp': 1592870400000}"
      ]
     },
     "execution_count": 25,
     "metadata": {},
     "output_type": "execute_result"
    }
   ],
   "source": [
    "data_json = json.loads(response.content)\n",
    "data_json[0]"
   ]
  },
  {
   "cell_type": "code",
   "execution_count": 26,
   "id": "578439fa",
   "metadata": {},
   "outputs": [],
   "source": [
    "keys = data_json[0].keys()\n",
    "date_list = []\n",
    "comptage_list = []\n",
    "timestamp_list = []"
   ]
  },
  {
   "cell_type": "code",
   "execution_count": 27,
   "id": "b04c30e6",
   "metadata": {},
   "outputs": [],
   "source": [
    "for data_object in data_json:\n",
    "    date_list.append(data_object[\"date\"])\n",
    "    comptage_list.append(data_object[\"comptage\"])\n",
    "    timestamp_list.append(data_object[\"timestamp\"])"
   ]
  },
  {
   "cell_type": "code",
   "execution_count": 28,
   "id": "d768d26c",
   "metadata": {},
   "outputs": [],
   "source": [
    "columns = [\"date\", \"comptage\", \"timestamp\"]"
   ]
  },
  {
   "cell_type": "code",
   "execution_count": 29,
   "id": "18606c94",
   "metadata": {},
   "outputs": [],
   "source": [
    "# Calling DataFrame constructor after zipping\n",
    "# both lists, with columns specified\n",
    "df = pd.DataFrame(list(zip(date_list, comptage_list,timestamp_list)),\n",
    "               columns =columns)"
   ]
  },
  {
   "cell_type": "code",
   "execution_count": 30,
   "id": "c32becb8",
   "metadata": {},
   "outputs": [],
   "source": [
    "df.to_csv(\"test.csv\")"
   ]
  },
  {
   "cell_type": "code",
   "execution_count": null,
   "id": "f7c007d3",
   "metadata": {},
   "outputs": [],
   "source": []
  }
 ],
 "metadata": {
  "kernelspec": {
   "display_name": "Python 3 (ipykernel)",
   "language": "python",
   "name": "python3"
  },
  "language_info": {
   "codemirror_mode": {
    "name": "ipython",
    "version": 3
   },
   "file_extension": ".py",
   "mimetype": "text/x-python",
   "name": "python",
   "nbconvert_exporter": "python",
   "pygments_lexer": "ipython3",
   "version": "3.9.7"
  }
 },
 "nbformat": 4,
 "nbformat_minor": 5
}
