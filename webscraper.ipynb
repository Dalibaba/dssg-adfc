{
 "cells": [
  {
   "cell_type": "code",
   "execution_count": 16,
   "id": "dce37d78",
   "metadata": {},
   "outputs": [],
   "source": [
    "from seleniumwire import webdriver\n",
    "import time\n",
    "import pathlib\n",
    "import os\n",
    "\n",
    "from urllib.parse import urlparse, parse_qs\n",
    "\n",
    "# get driver path\n",
    "current_path = pathlib.Path().resolve()\n",
    "driver_path = os.path.join(current_path, \"chromedriver\")\n",
    "\n",
    "driver = webdriver.Chrome(driver_path)\n",
    "\n",
    "driver.get('https://data.eco-counter.com/public2/?&id=100019726')\n",
    "\n",
    "# wait for page to load competletely\n",
    "time.sleep(3)"
   ]
  },
  {
   "cell_type": "code",
   "execution_count": 30,
   "id": "9e12f3c5",
   "metadata": {},
   "outputs": [],
   "source": [
    "# get all requests made by the page\n",
    "all_requests = driver.requests"
   ]
  },
  {
   "cell_type": "code",
   "execution_count": 23,
   "id": "387c1b7b",
   "metadata": {},
   "outputs": [],
   "source": [
    "TARGET_URL = \"www.eco-visio.net\"\n",
    "GET_REQUEST = \"\""
   ]
  },
  {
   "cell_type": "markdown",
   "id": "992c34be",
   "metadata": {},
   "source": [
    "Filter out the get request made to the database"
   ]
  },
  {
   "cell_type": "code",
   "execution_count": 33,
   "id": "d8d52607",
   "metadata": {},
   "outputs": [
    {
     "name": "stdout",
     "output_type": "stream",
     "text": [
      "https://www.eco-visio.net/api/aladdin/1.0.0/pbl/publicwebpage/data/100019726?begin=20150601&end=20210921&step=4&domain=4701&withNull=true&t=4a26c833613dbe87908c38a9136cb2e1a9dbe76af315f5458ec121345d775831\n"
     ]
    }
   ],
   "source": [
    "for request in all_requests:\n",
    "    # parse url and filter out query param\n",
    "    parsed_url = urlparse(request.url)\n",
    "    query_dictionary = parse_qs(parsed_url.query)\n",
    "    # check if target url matches and has a token in query\n",
    "    if (parsed_url.netloc == TARGET_URL and \"t\" in query_dictionary):\n",
    "        GET_REQUEST = request\n",
    "        print(GET_REQUEST.url)\n",
    "        break"
   ]
  },
  {
   "cell_type": "code",
   "execution_count": 36,
   "id": "050af4df",
   "metadata": {},
   "outputs": [
    {
     "data": {
      "text/plain": [
       "{'begin': ['20150601'],\n",
       " 'end': ['20210921'],\n",
       " 'step': ['4'],\n",
       " 'domain': ['4701'],\n",
       " 'withNull': ['true'],\n",
       " 't': ['4a26c833613dbe87908c38a9136cb2e1a9dbe76af315f5458ec121345d775831']}"
      ]
     },
     "execution_count": 36,
     "metadata": {},
     "output_type": "execute_result"
    }
   ],
   "source": [
    "query_dictionary = parse_qs(parsed_url.query)\n",
    "query_dictionary"
   ]
  },
  {
   "cell_type": "code",
   "execution_count": 37,
   "id": "77c774b1",
   "metadata": {},
   "outputs": [
    {
     "ename": "AttributeError",
     "evalue": "'dict' object has no attribute 'iteritems'",
     "output_type": "error",
     "traceback": [
      "\u001b[1;31m---------------------------------------------------------------------------\u001b[0m",
      "\u001b[1;31mAttributeError\u001b[0m                            Traceback (most recent call last)",
      "\u001b[1;32m~\\AppData\\Local\\Temp/ipykernel_11152/4150080564.py\u001b[0m in \u001b[0;36m<module>\u001b[1;34m\u001b[0m\n\u001b[1;32m----> 1\u001b[1;33m \u001b[0mquery_pairs\u001b[0m \u001b[1;33m=\u001b[0m \u001b[1;33m[\u001b[0m\u001b[1;33m(\u001b[0m\u001b[0mk\u001b[0m\u001b[1;33m,\u001b[0m\u001b[0mv\u001b[0m\u001b[1;33m)\u001b[0m \u001b[1;32mfor\u001b[0m \u001b[0mk\u001b[0m\u001b[1;33m,\u001b[0m\u001b[0mvlist\u001b[0m \u001b[1;32min\u001b[0m \u001b[0mquery_dictionary\u001b[0m\u001b[1;33m.\u001b[0m\u001b[0miteritems\u001b[0m\u001b[1;33m(\u001b[0m\u001b[1;33m)\u001b[0m \u001b[1;32mfor\u001b[0m \u001b[0mv\u001b[0m \u001b[1;32min\u001b[0m \u001b[0mvlist\u001b[0m\u001b[1;33m]\u001b[0m\u001b[1;33m\u001b[0m\u001b[1;33m\u001b[0m\u001b[0m\n\u001b[0m\u001b[0;32m      2\u001b[0m \u001b[0murllib\u001b[0m\u001b[1;33m.\u001b[0m\u001b[0murlencode\u001b[0m\u001b[1;33m(\u001b[0m\u001b[0mquery_pairs\u001b[0m\u001b[1;33m)\u001b[0m\u001b[1;33m\u001b[0m\u001b[1;33m\u001b[0m\u001b[0m\n",
      "\u001b[1;31mAttributeError\u001b[0m: 'dict' object has no attribute 'iteritems'"
     ]
    }
   ],
   "source": [
    "query_pairs = [(k,v) for k,vlist in d.iteritems() for v in vlist]\n",
    "urllib.urlencode(query_pairs)"
   ]
  },
  {
   "cell_type": "code",
   "execution_count": null,
   "id": "6091cf6a",
   "metadata": {},
   "outputs": [],
   "source": []
  },
  {
   "cell_type": "code",
   "execution_count": 31,
   "id": "c94f047d",
   "metadata": {
    "scrolled": true
   },
   "outputs": [
    {
     "data": {
      "text/plain": [
       "'https://www.eco-visio.net/api/aladdin/1.0.0/pbl/publicwebpage/data/100019726?begin=20150601&end=20210921&step=4&domain=4701&withNull=true&t=4a26c833613dbe87908c38a9136cb2e1a9dbe76af315f5458ec121345d775831'"
      ]
     },
     "execution_count": 31,
     "metadata": {},
     "output_type": "execute_result"
    }
   ],
   "source": [
    "GET_REQUEST.url"
   ]
  },
  {
   "cell_type": "code",
   "execution_count": 26,
   "id": "676ef97c",
   "metadata": {},
   "outputs": [
    {
     "name": "stdout",
     "output_type": "stream",
     "text": [
      "ParseResult(scheme='https', netloc='www.eco-visio.net', path='/api/aladdin/1.0.0/pbl/publicwebpage/data/353234585', params='', query='begin=20150601&end=20210921&step=4&domain=4701&t=4a26c833613dbe87908c38a9136cb2e1a9dbe76af315f5458ec121345d775831&withNull=true', fragment='')\n"
     ]
    },
    {
     "data": {
      "text/plain": [
       "['4a26c833613dbe87908c38a9136cb2e1a9dbe76af315f5458ec121345d775831']"
      ]
     },
     "execution_count": 26,
     "metadata": {},
     "output_type": "execute_result"
    }
   ],
   "source": [
    "parsed_url = urlparse(\"https://www.eco-visio.net/api/aladdin/1.0.0/pbl/publicwebpage/data/353234585?begin=20150601&end=20210921&step=4&domain=4701&t=4a26c833613dbe87908c38a9136cb2e1a9dbe76af315f5458ec121345d775831&withNull=true\")\n",
    "print(parsed_url)\n",
    "query = parse_qs(parsed_url.query)\n",
    "query['t']"
   ]
  },
  {
   "cell_type": "code",
   "execution_count": null,
   "id": "bef03d87",
   "metadata": {},
   "outputs": [],
   "source": []
  }
 ],
 "metadata": {
  "kernelspec": {
   "display_name": "Python 3 (ipykernel)",
   "language": "python",
   "name": "python3"
  },
  "language_info": {
   "codemirror_mode": {
    "name": "ipython",
    "version": 3
   },
   "file_extension": ".py",
   "mimetype": "text/x-python",
   "name": "python",
   "nbconvert_exporter": "python",
   "pygments_lexer": "ipython3",
   "version": "3.9.7"
  }
 },
 "nbformat": 4,
 "nbformat_minor": 5
}
