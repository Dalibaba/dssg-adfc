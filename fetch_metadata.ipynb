{
 "cells": [
  {
   "cell_type": "code",
   "execution_count": 1,
   "id": "faaaa1fa",
   "metadata": {},
   "outputs": [],
   "source": [
    "import pathlib\n",
    "import os\n",
    "import requests\n",
    "from urllib.parse import urlparse, parse_qs\n",
    "from io import BytesIO\n",
    "import pandas as pd\n",
    "import json"
   ]
  },
  {
   "cell_type": "code",
   "execution_count": 7,
   "id": "79989e41",
   "metadata": {},
   "outputs": [],
   "source": [
    "GET_REQUEST = \"https://www.eco-visio.net/api/aladdin/1.0.0/pbl/publicwebpageplus/4586?withNull=true\""
   ]
  },
  {
   "cell_type": "code",
   "execution_count": 8,
   "id": "8bb0d233",
   "metadata": {},
   "outputs": [
    {
     "data": {
      "text/plain": [
       "<Response [200]>"
      ]
     },
     "execution_count": 8,
     "metadata": {},
     "output_type": "execute_result"
    }
   ],
   "source": [
    "url_endpoint = GET_REQUEST\n",
    "response = requests.get(url_endpoint)\n",
    "response"
   ]
  },
  {
   "cell_type": "code",
   "execution_count": 9,
   "id": "7f0875e2",
   "metadata": {},
   "outputs": [],
   "source": [
    "data_json = json.loads(response.content)"
   ]
  },
  {
   "cell_type": "code",
   "execution_count": 10,
   "id": "3f7f2954",
   "metadata": {},
   "outputs": [
    {
     "data": {
      "text/plain": [
       "{'token': None,\n",
       " 'id_pdc_img': 0,\n",
       " 'idPdc': 100021443,\n",
       " 'lat': 69.96787,\n",
       " 'lon': 23.36929,\n",
       " 'nom': 'Alta_2 (NO)',\n",
       " 'publicMessage': None,\n",
       " 'photo': [{'lien': 'https://filer.eco-counter-tools.com/file/c3/a6b6e6ded8b909892faafb44eebf6883120ef9ab7695ccb8aca0401899b1fec3/14315298005820.jpg'}],\n",
       " 'lienPublic': None,\n",
       " 'pratique': [{'pratique': 2, 'id': 101021443},\n",
       "  {'pratique': 2, 'id': 102021443}],\n",
       " 'mainPratique': 2,\n",
       " 'filtre': None,\n",
       " 'formule_site': None,\n",
       " 'fin': None,\n",
       " 'debut': '01/01/2013',\n",
       " 'finPeriode': None,\n",
       " 'debutPeriode': '01/01/2021',\n",
       " 'current_year_default': 1,\n",
       " 'externalUrl': 'https://www.eco-compteur.com',\n",
       " 'nomOrganisme': 'Bike Count Display Interactive Map',\n",
       " 'logo': 'https://filer.eco-counter-tools.com/file/33/43649b3090eaa41e49d73bb31ff037efe2f97745f8a8e8eafb3baab42acf6433/1556292443839.png',\n",
       " 'pays': 'fr',\n",
       " 'sig': 1,\n",
       " 'pictoPublic': 'totem_vert.png',\n",
       " 'today': '22/09/2021',\n",
       " 'total': 33193,\n",
       " 'lastDay': 109,\n",
       " 'moyD': 126,\n",
       " 'totalLY': None,\n",
       " 'lastDay8': None,\n",
       " 'moyDLY': None,\n",
       " 'nbDays': None,\n",
       " 'nbDaysLY': None}"
      ]
     },
     "execution_count": 10,
     "metadata": {},
     "output_type": "execute_result"
    }
   ],
   "source": [
    "data_json[0]"
   ]
  },
  {
   "cell_type": "code",
   "execution_count": 11,
   "id": "605bfeb5",
   "metadata": {},
   "outputs": [
    {
     "data": {
      "text/plain": [
       "dict"
      ]
     },
     "execution_count": 11,
     "metadata": {},
     "output_type": "execute_result"
    }
   ],
   "source": [
    "with open('counting_stations_metadata.json', 'w') as outfile:\n",
    "    json.dump(data, outfile)"
   ]
  }
 ],
 "metadata": {
  "kernelspec": {
   "display_name": "Python 3 (ipykernel)",
   "language": "python",
   "name": "python3"
  },
  "language_info": {
   "codemirror_mode": {
    "name": "ipython",
    "version": 3
   },
   "file_extension": ".py",
   "mimetype": "text/x-python",
   "name": "python",
   "nbconvert_exporter": "python",
   "pygments_lexer": "ipython3",
   "version": "3.9.7"
  }
 },
 "nbformat": 4,
 "nbformat_minor": 5
}
